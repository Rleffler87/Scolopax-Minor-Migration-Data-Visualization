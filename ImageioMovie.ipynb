{
 "cells": [
  {
   "cell_type": "markdown",
   "metadata": {},
   "source": [
    "# Woodcock (Scolopax Minor) Migration:\n",
    "\n",
    "### This notebook is used to demonstrate the use of imageio to make .mp4 and .gif files where the migration can be visualized.  This is similar to using matplotlib's animation function, but works better with large amounts of data / complex plots.\n",
    "\n",
    "### I've always thought migrations were cool; I hope you enjoy the data visualization!"
   ]
  },
  {
   "cell_type": "code",
   "execution_count": 1,
   "metadata": {},
   "outputs": [],
   "source": [
    "import pandas as pd\n",
    "import numpy as np\n",
    "import matplotlib.pyplot as plt\n",
    "from mpl_toolkits.basemap import Basemap\n",
    "from datetime import datetime, timedelta"
   ]
  },
  {
   "cell_type": "markdown",
   "metadata": {},
   "source": [
    "## Read in the original and processed datasets."
   ]
  },
  {
   "cell_type": "code",
   "execution_count": 2,
   "metadata": {},
   "outputs": [],
   "source": [
    "# Load the data\n",
    "df = pd.read_csv(\"USGS Woodcock Migration.csv\")"
   ]
  },
  {
   "cell_type": "code",
   "execution_count": 3,
   "metadata": {},
   "outputs": [],
   "source": [
    "# Drop birds with low observation count\n",
    "df = df.groupby(\"individual-local-identifier\").filter(lambda x: len(x) > 100)\n",
    "# Get list of bird names\n",
    "birds = df['individual-local-identifier'].unique()"
   ]
  },
  {
   "cell_type": "code",
   "execution_count": 4,
   "metadata": {},
   "outputs": [],
   "source": [
    "dfinterp = pd.read_csv('WoodcockData.csv')"
   ]
  },
  {
   "cell_type": "markdown",
   "metadata": {},
   "source": [
    "## Create the frames for the movie.\n",
    "\n",
    "### This takes some time as it needs to make a lot of frames.  In each frame, I included a fading tail to make it easier to follow the bird's movement.  The fading tails add to the time to run this cell as well."
   ]
  },
  {
   "cell_type": "code",
   "execution_count": 5,
   "metadata": {},
   "outputs": [],
   "source": [
    "TailLength = 168.\n",
    "Step = 36\n",
    "k = 0\n",
    "\n",
    "while k < (len(dfinterp) - TailLength)/Step:\n",
    "    plt.figure(figsize=(12,9))\n",
    "    m = Basemap(llcrnrlon=-100., llcrnrlat=25., urcrnrlon=-60., urcrnrlat=57.,\n",
    "               projection='lcc', lat_1=20., lat_2=40., lon_0=-60.,\n",
    "               resolution='l', area_thresh=1000.)\n",
    "    \n",
    "    m.drawcoastlines()\n",
    "    m.drawcountries()\n",
    "    m.drawstates()\n",
    "    m.drawparallels(np.arange(10,70,10), labels=[1,1,0,0])\n",
    "    m.drawmeridians(np.arange(-100,0,10), labels=[0,0,0,1])\n",
    "    \n",
    "    for i in birds:\n",
    "        j=0\n",
    "        while j <= TailLength:\n",
    "            col = str(1 - j/TailLength)\n",
    "            m.scatter(dfinterp.loc[int(j+k*Step), i+'_lon'], dfinterp.loc[int(j+k*Step), i+'_lat'], \n",
    "                      latlon=True, marker='o', color=col)\n",
    "            j += 1\n",
    "            \n",
    "    plt.title(dfinterp.loc[int(j+k*Step), 'timestamp'][5:7]+'/'+dfinterp.loc[int(j+k*Step), 'timestamp'][0:4], \n",
    "              fontdict = {'fontsize' : 20})\n",
    "    plt.savefig('Migration'+str(k)+'.png')\n",
    "    \n",
    "    plt.cla()\n",
    "    plt.clf()\n",
    "    plt.close('all')\n",
    "    del m\n",
    "    \n",
    "    k += 1"
   ]
  },
  {
   "cell_type": "markdown",
   "metadata": {},
   "source": [
    "## Import imageio and create the movie.\n",
    "\n",
    "### The line of code near the end of the cell can be uncommented to make a .gif file instead.  Note that the .mp4 file is significantly smaller in size."
   ]
  },
  {
   "cell_type": "code",
   "execution_count": 6,
   "metadata": {},
   "outputs": [
    {
     "name": "stderr",
     "output_type": "stream",
     "text": [
      "IMAGEIO FFMPEG_WRITER WARNING: input image is not divisible by macro_block_size=16, resizing from (864, 648) to (864, 656) to ensure video compatibility with most codecs and players. To prevent resizing, make your input image divisible by the macro_block_size or set the macro_block_size to 1 (risking incompatibility).\n"
     ]
    }
   ],
   "source": [
    "import imageio\n",
    "\n",
    "images = []\n",
    "\n",
    "for i in range(0,931):\n",
    "    name = 'Migration' + str(i) + '.png'\n",
    "    images.append(imageio.imread(name))\n",
    "    \n",
    "# imageio.mimsave('MigrationMovie.gif', images, duration=0.1)\n",
    "imageio.mimsave('MigrationMovie.mp4', images)"
   ]
  },
  {
   "cell_type": "code",
   "execution_count": null,
   "metadata": {},
   "outputs": [],
   "source": []
  }
 ],
 "metadata": {
  "kernelspec": {
   "display_name": "geo_env",
   "language": "python",
   "name": "geo_env"
  },
  "language_info": {
   "codemirror_mode": {
    "name": "ipython",
    "version": 3
   },
   "file_extension": ".py",
   "mimetype": "text/x-python",
   "name": "python",
   "nbconvert_exporter": "python",
   "pygments_lexer": "ipython3",
   "version": "3.9.6"
  }
 },
 "nbformat": 4,
 "nbformat_minor": 4
}
